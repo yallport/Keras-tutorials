{
 "cells": [
  {
   "cell_type": "markdown",
   "metadata": {},
   "source": [
    "## Ch 1 - What is Deep Learning?"
   ]
  },
  {
   "cell_type": "markdown",
   "metadata": {},
   "source": [
    "### 1.1 Artificial Intelligence, Machine Learning, and Deep Learning\n",
    "\n",
    "\n",
    "![AI](Images/01_01.jpg)\n"
   ]
  },
  {
   "cell_type": "markdown",
   "metadata": {},
   "source": [
    "#### 1.1.1 Artificial Intelligence\n",
    "\n",
    "\n",
    "AI is the effort to automate intellectual tasks normally performed by humans. \n",
    "\n",
    "AI is a general field that encompasses machine learning and deep learning, but that also includes other approaches that don't involve any learning.\n",
    "\n",
    "Born in the 1950s. Early chess programs only involved hardcoded rules crafted by programmers, and didn't qualify as machine learning. At the time experts believed that human-level artificial intelligence could only be achieved by having programmers handcraft a sufficiently large set of explicit rules. This approach is called **symbolic AI**, and was the dominant paradigm in AI to the late 1980s. \n",
    "\n",
    "Although symbolic AI proved suitable to solve well-defined, logical problems, it turned out to be intractable to figure out explicit rules for solving more complex problems such as image classification, speech recognition, and language translation."
   ]
  },
  {
   "cell_type": "markdown",
   "metadata": {},
   "source": [
    "#### 1.1.2 Machine Learning\n",
    "\n",
    "A machine learning system is trained rather than explicitly programmed. It is presented with many examples relevant to a task, and it finds statistical structure in these examples that eventually allows the system to come up with rules for automating the task.\n",
    "\n",
    "For example, if you wanted to automate the task of tagging your vacation pictures, you could present a machine learning system with many examples of pictures already tagged by humans, and the system would learn statistical rules for associating specific pictures to specific tags.\n",
    "\n",
    "Machine learning is tightly related to stats, but unlike stats, machine learning tends to deal with large, complex datasets for which classical statistical analysis such as Bayesian analysis would be impractical.\n",
    "\n",
    "Ideas are proven empirically more often than theoretically."
   ]
  },
  {
   "cell_type": "markdown",
   "metadata": {},
   "source": [
    "#### 1.1.3 Learning Representations from Data\n",
    "\n",
    "To do machine learning, we need\n",
    "\n",
    "- Input data points: if the task is speech recognition, these data points could be sound files of people speaking. If image tagging, pictures.\n",
    "\n",
    "- Examples of the expected output: in speech recognition, these could be human-generated transcripts of sound files. In an image tag, expected outputs could be tags such as 'dog,' 'cat,' and so on.\n",
    "\n",
    "- A way to measure whether the algorithm is doing a good job: this is necessary in order to determine the distance between the algorithm's current output and its expected output. The measurement is used as a feedback signal to adjust the way the algorithm works. This adjustment is *learning*.\n",
    "\n",
    "\n",
    "A machine-learning model transforms its input data into meaningful outputs, a process that is learned from exposure to known examples of inputs and outputs. The central problem in machine learning and deep learning is to meaningfully transform data: to learn useful representations of the input data at hand that get us closer to the expected output.\n",
    "\n",
    "A representation  is a different way to look at data - to represent or encode data.\n",
    "- A color image can be encoded in the RGB format or in the HSV format, these are two different representations of the same data. Some tasks that are difficult with one may be easier with the other. \n",
    "\n",
    "Machine learning models are all about finding appropriate representations for their input data.\n",
    "\n",
    "\n",
    "\n"
   ]
  },
  {
   "cell_type": "markdown",
   "metadata": {},
   "source": [
    "In this case, we need a representation of our data that cleanly separates the white points from the black points. One transformation is a coordinate change. This new representation basically solves the classification problem.\n",
    "\n",
    "![Representation](Images/01_02.jpg)\n",
    "\n",
    "- The inputs are the coordinates of the points\n",
    "\n",
    "- The expected outputs are the colors of our points\n",
    "\n",
    "- A way to measure whether our algorithm is doing a good job could be the percentage of points that are correctly classified. "
   ]
  },
  {
   "cell_type": "markdown",
   "metadata": {},
   "source": [
    "#### 1.1.4 The \"Deep\" in Deep Learning\n",
    "\n",
    "Deep learning is a specific subfield of machine learning: a new take on learning representations from data that puts an emphasis on learning successive layers of increasingly meaningful representations.\n",
    "\n",
    "Modern deep learning often involves tens or even hundreds of successive layers of representations and they’re all learned automatically from exposure to training data. Meanwhile, other approaches to machine learning tend to focus on learning only one or two layers of representations of the data; they’re sometimes called shallow learning. \n",
    "\n",
    "How many layers contribute to a model of the data is called the depth of the model.\n",
    "\n",
    "In deep learning, these layered representations are (almost always) learned via models called neural networks, structured in layers stacked on top of each other.\n"
   ]
  },
  {
   "cell_type": "markdown",
   "metadata": {},
   "source": [
    "*Recognizing Digits:* \n",
    "\n",
    "Several layer deep network that will transform an image of a digit in order to recognize what digit it is: \n",
    "\n",
    "![Digits1](Images/01_03.jpg)\n",
    "\n",
    "\n",
    "As you can see in figure 1.6, the network transforms the digit image into representations that are increasingly different from the original image and increasingly informative about the final result. You can think of a deep network as a multistage information-distillation operation, where information goes through successive filters and comes out increasingly purified (that is, useful with regard to some task).\n",
    "\n",
    "\n",
    "![Digits2](Images/01_04.jpg)\n",
    "\n",
    "\n",
    "\n"
   ]
  },
  {
   "cell_type": "markdown",
   "metadata": {},
   "source": [
    "#### 1.1.5 Understanding How Deep Learning Works, In 3 Figures"
   ]
  },
  {
   "cell_type": "markdown",
   "metadata": {},
   "source": [
    "#### 1.1.6 What Deep Learning Has Achieved So Far"
   ]
  },
  {
   "cell_type": "markdown",
   "metadata": {},
   "source": [
    "#### 1.1.7 Don't Believe the Short-Term Hype"
   ]
  },
  {
   "cell_type": "markdown",
   "metadata": {},
   "source": [
    "#### 1.1.8 The Promise of AI"
   ]
  },
  {
   "cell_type": "markdown",
   "metadata": {},
   "source": [
    "### 1.2 Before Deep Learning: A Brief History of Machine Learning"
   ]
  },
  {
   "cell_type": "markdown",
   "metadata": {},
   "source": [
    "#### 1.2.1 Probabilistic Thinking"
   ]
  },
  {
   "cell_type": "markdown",
   "metadata": {},
   "source": [
    "#### 1.2.2 Early Neural Networks"
   ]
  },
  {
   "cell_type": "markdown",
   "metadata": {},
   "source": [
    "#### 1.2.3 Kernel Methods"
   ]
  },
  {
   "cell_type": "markdown",
   "metadata": {},
   "source": [
    "#### 1.2.4 Decision Trees, Random Forests, and Gradient Boosting Machines"
   ]
  },
  {
   "cell_type": "markdown",
   "metadata": {},
   "source": [
    "#### 1.2.5 Back to Neural Networks"
   ]
  },
  {
   "cell_type": "markdown",
   "metadata": {},
   "source": [
    "#### 1.2.6 What Makes Deep Learning Different"
   ]
  },
  {
   "cell_type": "markdown",
   "metadata": {},
   "source": [
    "#### 1.2.7 The Modern Machine-Learning Landscape"
   ]
  },
  {
   "cell_type": "markdown",
   "metadata": {},
   "source": [
    "### 1.3 Why Deep Learning? Why Now?"
   ]
  },
  {
   "cell_type": "markdown",
   "metadata": {},
   "source": [
    "#### 1.3.1 Hardware"
   ]
  },
  {
   "cell_type": "markdown",
   "metadata": {},
   "source": [
    "#### 1.3.2 Data"
   ]
  },
  {
   "cell_type": "markdown",
   "metadata": {},
   "source": [
    "#### 1.3.3 Algorithms"
   ]
  },
  {
   "cell_type": "markdown",
   "metadata": {},
   "source": [
    "#### 1.3.4 A New Wave of Investment"
   ]
  },
  {
   "cell_type": "markdown",
   "metadata": {},
   "source": [
    "#### 1.3.5 The Democratization of Deep Learning"
   ]
  },
  {
   "cell_type": "markdown",
   "metadata": {},
   "source": [
    "#### 1.3.6 Will It Last?"
   ]
  }
 ],
 "metadata": {
  "kernelspec": {
   "display_name": "Python 3",
   "language": "python",
   "name": "python3"
  },
  "language_info": {
   "codemirror_mode": {
    "name": "ipython",
    "version": 3
   },
   "file_extension": ".py",
   "mimetype": "text/x-python",
   "name": "python",
   "nbconvert_exporter": "python",
   "pygments_lexer": "ipython3",
   "version": "3.6.4"
  }
 },
 "nbformat": 4,
 "nbformat_minor": 2
}
