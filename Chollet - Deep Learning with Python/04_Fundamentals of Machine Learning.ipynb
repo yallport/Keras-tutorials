{
 "cells": [
  {
   "cell_type": "markdown",
   "metadata": {},
   "source": [
    "# Ch 4 - Fundamentals of Machine Learning\n",
    "\n",
    "\n"
   ]
  },
  {
   "cell_type": "markdown",
   "metadata": {},
   "source": [
    "## 4.1 Four Branches of Machine Learning\n",
    "\n",
    "Machine learning algorithms generally fall into four broad categories:"
   ]
  },
  {
   "cell_type": "markdown",
   "metadata": {},
   "source": [
    "### 4.1.1 Supervised Learning\n",
    "\n",
    "Supervised learning consists of learning to map input data to known targets (also called **annotations**), given a set of examples.\n",
    "\n",
    "Supervised learning mostly consists of classification and regression, but there are also the following:\n",
    "\n",
    "- **Sequence generation**: Given a picture, predict a caption describing it. Sequence generation can sometimes be reformulated as a series of classification problems (such as repeatedly predicting a word or token in a sequence).\n",
    "\n",
    "- **Syntax tree prediction**: Given a sentence, predict its decomposition into a syntax tree.\n",
    "\n",
    "- **Object detection**: Given a picture, draw a bounding box around certain objects inside the picture. This can also be expressed as a classification problem (given many candidate bounding boxes, classify the contents of each one) or as a joint classification and regression problem, where the bounding-box coordinates are predicted via vector regression.\n",
    "\n",
    "- **Image segmentation**: Given a picture, draw a pixel-level mask on a specific object.\n",
    "\n",
    "\n",
    "\n",
    "\n",
    "\n",
    "\n"
   ]
  },
  {
   "cell_type": "markdown",
   "metadata": {},
   "source": [
    "### 4.1.2 Unsupervised Learning\n",
    "\n",
    "This branch of machine learning consists of finding interesting transformations of the input data without the help of any targets, for the purposes of data visualization, data compression, or data denoising, or to better understand the correlations present in the data at hand.\n",
    "\n",
    "Unsupervised learning is often a necessary step in better understanding a dataset before attempting to solve a supervised learning problem.\n",
    "\n",
    "**Dimensionality reduction** and **clustering** are well-known categories of unsupervised learning.\n",
    "\n",
    "\n"
   ]
  },
  {
   "cell_type": "markdown",
   "metadata": {},
   "source": [
    "### 4.1.3 Self-supervised Learning \n",
    "\n",
    "Self-supervised learning is supervised learning without human-annotated labels (or supervised learning without humans). \n",
    "\n",
    "There are still labels involved (the learning has to be supervised by something), but they are generated from the input data, typically using a heuristic algorithm.\n",
    "\n",
    "**Autoencoders** are a well-known instance of self-supervised learning, where the generated targets are the input, unmodified.\n",
    "\n",
    "\n",
    "\n",
    "\n"
   ]
  },
  {
   "cell_type": "markdown",
   "metadata": {},
   "source": [
    "### 4.1.4 Reinforcement Learning\n",
    "\n",
    "In reinforcement learning, an **agent** receives information about its environment and learns to choose actions that will maximize some reward. For instance, a neural network that \"looks\" at a video game screen and outputs game actions in order to maximize its score can be trained via reinforcement learning.\n",
    "\n",
    "This branch of machine learning recently started to get a lot of attention after Google DeepMind successfully applied it to learning to play Atari games (and, later, learning to play Go at the highest level).\n",
    "\n",
    "\n",
    "Currently, reinforcement learning is mostly a research area and hasn’t yet had sig- nificant practical successes beyond games. In time, however, we expect to see rein- forcement learning take over an increasingly large range of real-world applications: self-driving cars, robotics, resource management, education, and so on.\n",
    "\n",
    "\n",
    "\n",
    "\n",
    "\n",
    "\n",
    "\n",
    "\n"
   ]
  },
  {
   "cell_type": "markdown",
   "metadata": {},
   "source": [
    "### Misc Classification and Regression Glossary \n",
    "\n",
    "\n",
    "- **Sample** or **input**: One data point that goes into your model.\n",
    "\n",
    "- **Prediction** or **output**: What comes out of your model.\n",
    "\n",
    "- **Target**: The truth. What your model should ideally have predicted, according to an external source of data.\n",
    "\n",
    "- **Prediction error** or **loss value**: A measure of the distance between your model’s prediction and the target.\n",
    "\n",
    "- **Classes**: A set of possible labels to choose from in a classification problem. For example, when classifying cat and dog pictures, “dog” and “cat” are the two classes.\n",
    "\n",
    "- **Label**: A specific instance of a class annotation in a classification problem. For instance, if picture #1234 is annotated as containing the class “dog,” then “dog” is a label of picture #1234.\n",
    "\n",
    "- **Ground-truth** or **annotations**: All targets for a dataset, typically collected by humans.\n",
    "\n",
    "- **Binary classification**: A classification task where each input sample should be categorized into two exclusive categories.\n",
    "\n",
    "- **Multiclass classification**: A classification task where each input sample should be categorized into more than two categories: for instance, classifying handwritten digits.\n",
    "\n",
    "- **Multilabel classification**: A classification task where each input sample can be assigned multiple labels. For instance, a given image may contain both a cat and a dog and should be annotated both with the “cat” label and the “dog” label. The number of labels per image is usually variable.\n",
    "\n",
    "- **Scalar regression**: A task where the target is a continuous scalar value. Pre- dicting house prices is a good example: the different target prices form a con- tinuous space.\n",
    "\n",
    "- **Vector regression**: A task where the target is a set of continuous values: for example, a continuous vector. If you’re doing regression against multiple val- ues (such as the coordinates of a bounding box in an image), then you’re doing vector regression.\n",
    "\n",
    "- **Mini-batch** or **batch**: A small set of samples (typically between 8 and 128) that are processed simultaneously by the model. The number of samples is often a power of 2, to facilitate memory allocation on GPU. When training, a mini-batch is used to compute a single gradient-descent update applied to the weights of the model.\n",
    " \n",
    "\n",
    "\n",
    "\n",
    "\n",
    "\n"
   ]
  },
  {
   "cell_type": "markdown",
   "metadata": {},
   "source": [
    "## 4.2 Evaluating Machine Learning Models\n",
    "\n",
    "\n",
    "In machine learning, the goal is to achieve models that **generalize** - that perform well on never-before-seen data - and overfitting is the central obstacle. \n",
    "\n",
    "\n",
    "\n",
    "\n",
    "\n",
    "\n"
   ]
  },
  {
   "cell_type": "markdown",
   "metadata": {},
   "source": [
    "### 4.2.1 Training, Validation, and Test Sets \n",
    "\n",
    "You train on the training data, evaluate your model on the validation data, and once your model is ready, test it a final time on the test data.\n",
    "\n",
    "\n",
    "\n",
    "\n",
    "\n",
    "\n",
    "\n",
    "\n",
    "\n"
   ]
  },
  {
   "cell_type": "markdown",
   "metadata": {},
   "source": [
    "![HoldOutValidation](Images/04_01.jpg)"
   ]
  },
  {
   "cell_type": "code",
   "execution_count": null,
   "metadata": {
    "collapsed": true
   },
   "outputs": [],
   "source": []
  },
  {
   "cell_type": "code",
   "execution_count": null,
   "metadata": {
    "collapsed": true
   },
   "outputs": [],
   "source": []
  },
  {
   "cell_type": "code",
   "execution_count": null,
   "metadata": {
    "collapsed": true
   },
   "outputs": [],
   "source": []
  },
  {
   "cell_type": "code",
   "execution_count": null,
   "metadata": {
    "collapsed": true
   },
   "outputs": [],
   "source": []
  }
 ],
 "metadata": {
  "kernelspec": {
   "display_name": "Python 3",
   "language": "python",
   "name": "python3"
  },
  "language_info": {
   "codemirror_mode": {
    "name": "ipython",
    "version": 3
   },
   "file_extension": ".py",
   "mimetype": "text/x-python",
   "name": "python",
   "nbconvert_exporter": "python",
   "pygments_lexer": "ipython3",
   "version": "3.6.4"
  }
 },
 "nbformat": 4,
 "nbformat_minor": 2
}
