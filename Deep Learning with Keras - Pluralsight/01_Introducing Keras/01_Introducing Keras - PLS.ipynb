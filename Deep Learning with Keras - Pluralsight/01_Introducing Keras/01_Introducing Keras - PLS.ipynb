{
 "cells": [
  {
   "cell_type": "markdown",
   "metadata": {
    "collapsed": true
   },
   "source": [
    "## Introducing Keras\n",
    "\n",
    "Keras can let us quickly create a network that might take hours or days to handcode in Python.\n",
    "\n",
    "Focus of the course is Keras, not the specifics of different neural networks. Things covered in course:\n",
    "\n",
    "- Keras deep learning API\n",
    "- How Keras leverages frameworks like Tensorflow and Theano\n",
    "- Start with an easy network"
   ]
  },
  {
   "cell_type": "markdown",
   "metadata": {},
   "source": [
    "--------------------"
   ]
  },
  {
   "cell_type": "markdown",
   "metadata": {},
   "source": [
    "Keras is a machine learning library that you can use to create deep learning models that can solve many complex problems. It is a high-level neural network API, written in Python and capable of running on top of TensorFlow, CNTK, or Theano. \n",
    "\n",
    "\n",
    "\n",
    "\n"
   ]
  },
  {
   "cell_type": "markdown",
   "metadata": {
    "collapsed": true
   },
   "source": [
    "![Keras Environment](Images/01_01.jpg) "
   ]
  },
  {
   "cell_type": "markdown",
   "metadata": {},
   "source": [
    "Keras itself does not create or execute the neural network. Rather, Keras finds an API we code against, and our code will invoke Keras methods and pass the appropriate parameters."
   ]
  },
  {
   "cell_type": "markdown",
   "metadata": {},
   "source": [
    "-----------------"
   ]
  },
  {
   "cell_type": "markdown",
   "metadata": {},
   "source": [
    "### Neural Networks\n",
    "\n",
    "![Deep learning](Images/01_02.jpg) \n"
   ]
  },
  {
   "cell_type": "markdown",
   "metadata": {},
   "source": [
    "**Input layer:** feeds data into the network. Could be from a table, images, sounds, output from a sensor etc.\n",
    "\n",
    "**Hidden layer(s):** Layers between input and output. If there are two or more hidden layers, the network is a deep learning network.\n",
    "\n",
    "**Output layer:** Output."
   ]
  },
  {
   "cell_type": "markdown",
   "metadata": {},
   "source": [
    "----------------"
   ]
  },
  {
   "cell_type": "markdown",
   "metadata": {},
   "source": [
    "### Neuron"
   ]
  },
  {
   "cell_type": "markdown",
   "metadata": {},
   "source": [
    "![Neuron extern](Images/01_03.jpg) "
   ]
  },
  {
   "cell_type": "markdown",
   "metadata": {},
   "source": [
    "#### How a neuron works internally:\n",
    "\n",
    "Neuron performs a sum of inputs, weights, and the bias. This operation passes through a non-linear *activation function*. The output of the activation function is the output of the neuron.\n",
    "\n",
    "A key feature of the neural network is the ability to use the input data to train the weights and biases so the signal passed down the neuron changes based on the input data."
   ]
  },
  {
   "cell_type": "markdown",
   "metadata": {},
   "source": [
    "![Neuron internal](Images/01_04.jpg) "
   ]
  },
  {
   "cell_type": "markdown",
   "metadata": {},
   "source": [
    "With each set of data, an algorithm is used to adjust the weights and biases to minimize the error the network has in predicting the data's values. This is done through *forward propagation* and *back propagation*. When these processes are complete, the network is said to be *trained*. The network is trained to minimize error, and the weights and biases of all the neurons have been adjusted to give the best results on the data.\n",
    "\n",
    "\n"
   ]
  },
  {
   "cell_type": "markdown",
   "metadata": {},
   "source": [
    "Keras depends on a back end. The Keras syntax is generally the same regardless of the backend used, however we will briefly discuss interfacing Tensorflow and Keras, might want to learn about Tensorflow a bit."
   ]
  },
  {
   "cell_type": "markdown",
   "metadata": {},
   "source": [
    "----------"
   ]
  },
  {
   "cell_type": "markdown",
   "metadata": {},
   "source": [
    "### Course Structure\n",
    "\n",
    "- Introduction\n",
    "- Creating your first basic NN with Keras\n",
    "- Constructing Models\n",
    "- Employing Layers\n",
    "- Building Convolutional Neural Networks (CNNs)\n",
    "- Recurrent Neural Networks (RNNs)\n",
    "- Special Layers and Functions"
   ]
  }
 ],
 "metadata": {
  "kernelspec": {
   "display_name": "Python 3",
   "language": "python",
   "name": "python3"
  },
  "language_info": {
   "codemirror_mode": {
    "name": "ipython",
    "version": 3
   },
   "file_extension": ".py",
   "mimetype": "text/x-python",
   "name": "python",
   "nbconvert_exporter": "python",
   "pygments_lexer": "ipython3",
   "version": "3.6.3"
  }
 },
 "nbformat": 4,
 "nbformat_minor": 2
}
