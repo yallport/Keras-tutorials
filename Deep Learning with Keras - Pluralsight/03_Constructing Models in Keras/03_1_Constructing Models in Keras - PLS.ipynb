{
 "cells": [
  {
   "cell_type": "markdown",
   "metadata": {},
   "source": [
    "## Constructing Models in Keras\n",
    "\n",
    "### Introduction to Models\n",
    "\n",
    "Two types of models available in Keras\n",
    "\n",
    "![Models](Images/03_01.jpg) \n",
    "\n",
    "- Sequential Model\n",
    "    - Easy to understand, can easily and quickly create a neural network\n",
    "    - Define a sequential model and then add a sequence of layers\n",
    "    - Connections between the layers are automatically made and managed\n",
    "\n",
    "\n",
    "- Model Class with Functional API\n",
    "    - Composed of arranged layers of functional units\n",
    "    - User-defined layer connection between the units to create the best solution\n",
    "    - More detailed neural network with enough power to solve complex problems\n",
    "    \n",
    "\n"
   ]
  }
 ],
 "metadata": {
  "kernelspec": {
   "display_name": "Python 3",
   "language": "python",
   "name": "python3"
  },
  "language_info": {
   "codemirror_mode": {
    "name": "ipython",
    "version": 3
   },
   "file_extension": ".py",
   "mimetype": "text/x-python",
   "name": "python",
   "nbconvert_exporter": "python",
   "pygments_lexer": "ipython3",
   "version": "3.6.4"
  }
 },
 "nbformat": 4,
 "nbformat_minor": 2
}
