{
 "cells": [
  {
   "cell_type": "markdown",
   "metadata": {},
   "source": [
    "## Creating Your First Neural Network with Keras\n",
    "\n",
    "We are going to use Tensorflow for our backend. \n",
    "\n",
    "The Tensorflow distribution has a built-in implementation of the Keras library. We will have close integration with Tensorflow to the point that Keras will use Tensorflow tensors as the main data structure. \n",
    "\n",
    "\n",
    "![Keras Installation](Images/02_01.jpg) \n",
    "\n",
    "The Tensorflow distribution has a built-in implementation of the Keras library. That will have close integration with Tensorflow to the point that Keras will use Tensorflow tensors as the main data structure. \n",
    "\n",
    "We will be using standalone Keras installation because that will give us more flexibility as to what backend we will use.\n",
    "\n",
    "-----------"
   ]
  },
  {
   "cell_type": "markdown",
   "metadata": {},
   "source": [
    "### Installing Tensorflow\n",
    "\n",
    "Installed tensorflow-gpu"
   ]
  },
  {
   "cell_type": "code",
   "execution_count": 1,
   "metadata": {},
   "outputs": [
    {
     "name": "stdout",
     "output_type": "stream",
     "text": [
      "Tensorflow version is: 1.5.0\n",
      "b'Hello from TensorFlow!'\n"
     ]
    }
   ],
   "source": [
    "# To verify that Tensorflow is working\n",
    "import tensorflow as tf\n",
    "\n",
    "# Print version\n",
    "print(\"Tensorflow version is: \" + str(tf.__version__))\n",
    "\n",
    "# Verify session works\n",
    "hello = tf.constant('Hello from TensorFlow!')\n",
    "sess = tf.Session()\n",
    "print(sess.run(hello))"
   ]
  },
  {
   "cell_type": "markdown",
   "metadata": {},
   "source": [
    "### Installing Keras\n",
    "\n",
    "Installed Keras"
   ]
  },
  {
   "cell_type": "code",
   "execution_count": 2,
   "metadata": {},
   "outputs": [
    {
     "name": "stdout",
     "output_type": "stream",
     "text": [
      "[[0. 0.]\n",
      " [0. 0.]\n",
      " [0. 0.]\n",
      " [0. 0.]]\n"
     ]
    },
    {
     "name": "stderr",
     "output_type": "stream",
     "text": [
      "Using TensorFlow backend.\n"
     ]
    }
   ],
   "source": [
    "# Keras imports\n",
    "import numpy as np\n",
    "from keras import backend as kbe\n",
    "\n",
    "# Test Keras - backend interaction\n",
    "data = kbe.variable(np.random.random((4, 2)))  # Creates a 4x2 tensor of random numbers\n",
    "zero_data = kbe.zeros_like(data)  # Creates a 4x2 tensor of zeros\n",
    "print(kbe.eval(zero_data))  # Evaluates the zero_data and prints results"
   ]
  },
  {
   "cell_type": "markdown",
   "metadata": {},
   "source": [
    "-----"
   ]
  },
  {
   "cell_type": "markdown",
   "metadata": {},
   "source": [
    "## Creating a Neural Network\n",
    "\n",
    "Creating a model using Keras which will define the optimal separation line between two data clusters."
   ]
  },
  {
   "cell_type": "markdown",
   "metadata": {
    "collapsed": true
   },
   "source": [
    "![Keras Installation](Images/02_02.jpg) \n"
   ]
  },
  {
   "cell_type": "markdown",
   "metadata": {},
   "source": [
    "---------\n",
    "\n",
    "### Imports"
   ]
  },
  {
   "cell_type": "code",
   "execution_count": 3,
   "metadata": {
    "collapsed": true
   },
   "outputs": [],
   "source": [
    "import os\n",
    "import numpy as np\n",
    "import matplotlib.pyplot as plt\n",
    "from sklearn.datasets import make_blobs\n",
    "\n",
    "os.environ['TF_CPP_MIN_LOG_LEVEL']='2'"
   ]
  },
  {
   "cell_type": "markdown",
   "metadata": {},
   "source": [
    "### Helper Functions\n",
    "#### Plotting the data on a figure"
   ]
  },
  {
   "cell_type": "code",
   "execution_count": 4,
   "metadata": {
    "collapsed": true
   },
   "outputs": [],
   "source": [
    "def plot_data(pl, X, y):\n",
    "    \n",
    "    # plot class where y==0\n",
    "    pl.plot(X[y==0, 0], X[y==0, 1], 'ob', alpha=0.5)\n",
    "    # plot class where y==1\n",
    "    pl.plot(X[y==1, 0], X[y==1, 1], 'xr', alpha=0.5)\n",
    "    pl.legend(['0', '1'])\n",
    "    return pl"
   ]
  },
  {
   "cell_type": "markdown",
   "metadata": {},
   "source": [
    "#### Common function that draws the decision boundaries"
   ]
  },
  {
   "cell_type": "code",
   "execution_count": 5,
   "metadata": {
    "collapsed": true
   },
   "outputs": [],
   "source": [
    "def plot_decision_boundary(model, X, y):\n",
    "\n",
    "    amin, bmin = X.min(axis=0) - 0.1\n",
    "    amax, bmax = X.max(axis=0) + 0.1\n",
    "    hticks = np.linspace(amin, amax, 101)\n",
    "    vticks = np.linspace(bmin, bmax, 101)\n",
    "\n",
    "    aa, bb = np.meshgrid(hticks, vticks)\n",
    "    ab = np.c_[aa.ravel(), bb.ravel()]\n",
    "\n",
    "    # make prediction with the model and reshape the output so contourf can plot it\n",
    "    c = model.predict(ab)\n",
    "    Z = c.reshape(aa.shape)\n",
    "\n",
    "    plt.figure(figsize=(12, 8))\n",
    "\n",
    "    # plot the contour rather than just the line\n",
    "    # allows us to see the confidence of the prediction\n",
    "    plt.contourf(aa, bb, Z, cmap='bwr', alpha=0.2)\n",
    "\n",
    "    # plot the moons of data\n",
    "    plot_data(plt, X, y)\n",
    "\n",
    "    return plt"
   ]
  },
  {
   "cell_type": "markdown",
   "metadata": {},
   "source": [
    "### Generating the Data Blobs\n",
    "\n",
    "Data will be either 0 or 1 when 2 is number of centers.\n",
    "\n",
    "X is a [ number of samples, 2 ] sized array. X [ sample ] contains its x, y position of the sample in the space.\n",
    "\n",
    "ex: X [ 1 ] = [ 1.342, -2.3 ],  X [ 2 ] = [ -4.342, 2.12 ]\n",
    "\n",
    "y is a [ number of samples ] sized array. y [ sample ] contains the class index (i.e., 0 or 1 when there are two centers).\n",
    "\n",
    "ex: y [ 1 ] = 0, y [ 1 ] = 1"
   ]
  },
  {
   "cell_type": "code",
   "execution_count": 6,
   "metadata": {
    "collapsed": true
   },
   "outputs": [],
   "source": [
    "X, y = make_blobs(n_samples=1000, centers=2, random_state=42)"
   ]
  },
  {
   "cell_type": "code",
   "execution_count": 7,
   "metadata": {},
   "outputs": [
    {
     "data": {
      "image/png": "[encoded data removed]",
      "text/plain": [
       "<matplotlib.figure.Figure at 0x121d77b38>"
      ]
     },
     "metadata": {},
     "output_type": "display_data"
    }
   ],
   "source": [
    "pl = plot_data(plt, X, y)\n",
    "pl.show()"
   ]
  },
  {
   "cell_type": "markdown",
   "metadata": {},
   "source": [
    "Clusters look easily separable, so we do not need a complex network to find a boundary to separate the two. In general, any data distribution that is linearly separable can be done without needing any hidden layers in our neural network. \n",
    "\n",
    "### Splitting the Dataset into Training and Testing"
   ]
  },
  {
   "cell_type": "code",
   "execution_count": 8,
   "metadata": {
    "collapsed": true
   },
   "outputs": [],
   "source": [
    "from sklearn.model_selection import train_test_split\n",
    "\n",
    "X_train, X_test, y_train, y_test = train_test_split(X, y, test_size=0.3, random_state=42)"
   ]
  },
  {
   "cell_type": "markdown",
   "metadata": {},
   "source": [
    "## Creating the Keras Model\n",
    "\n",
    "In the Dense layer, every neuron is connected to every neuron in the following layer, or to the output if there isn't a following layer. \n",
    "\n",
    "The Adam optimizer will perform back propagation to adjust the weights and biases to minimize error during training. \n",
    "\n",
    "The general patter for the sequential model:\n",
    "- Create Model\n",
    "- Add Layers from input to output\n",
    "- Compile Model\n",
    "- Train Model (via fit)\n",
    "- Evaluate performance of model against the testing/validation set\n",
    "\n",
    "\n",
    "### Simple Sequential Model:\n"
   ]
  },
  {
   "cell_type": "code",
   "execution_count": 10,
   "metadata": {
    "collapsed": true
   },
   "outputs": [],
   "source": [
    "from keras.models import Sequential\n",
    "from keras.layers import Dense\n",
    "from keras.optimizers import Adam\n",
    "\n",
    "model = Sequential()\n",
    "\n",
    "model.add(Dense(1, input_shape=(2,), activation=\"sigmoid\"))"
   ]
  },
  {
   "cell_type": "markdown",
   "metadata": {},
   "source": [
    "Adds a Dense Fully Connected Layer with 1 neuron. Using input_shape = (2,) says the input will be arrays of the form (*,2). \n",
    "\n",
    "The first dimension will be an unspecified number of batches (rows) of data. The second dimension is 2 which are the X, Y positions of each data element.\n",
    "\n",
    "The sigmoid activation function is used to return 0 or 1, signifying the data cluster the position is predicted to belong to."
   ]
  },
  {
   "cell_type": "markdown",
   "metadata": {},
   "source": [
    "### Compile the Model\n",
    "\n",
    "Minimize crossentropy for a binary. Maximize for accuracy."
   ]
  },
  {
   "cell_type": "code",
   "execution_count": 12,
   "metadata": {
    "collapsed": true
   },
   "outputs": [],
   "source": [
    "model.compile(Adam(lr=0.05), 'binary_crossentropy', \\\n",
    "              metrics=['accuracy'])"
   ]
  },
  {
   "cell_type": "markdown",
   "metadata": {},
   "source": [
    "### Fitting the Model\n",
    "\n",
    "Fit the model with the data from make_blobs. Make 100 cycles through the data. Set verbose to 0 to supress progress messages.\n"
   ]
  },
  {
   "cell_type": "code",
   "execution_count": 13,
   "metadata": {},
   "outputs": [
    {
     "name": "stdout",
     "output_type": "stream",
     "text": [
      "Epoch 1/100\n",
      "700/700 [==============================] - 0s 512us/step - loss: 1.4031 - acc: 0.6086\n",
      "Epoch 2/100\n",
      "700/700 [==============================] - 0s 42us/step - loss: 0.0858 - acc: 1.0000\n",
      "Epoch 3/100\n",
      "700/700 [==============================] - 0s 43us/step - loss: 0.0205 - acc: 1.0000\n",
      "Epoch 4/100\n",
      "700/700 [==============================] - 0s 45us/step - loss: 0.0148 - acc: 1.0000\n",
      "Epoch 5/100\n",
      "700/700 [==============================] - 0s 43us/step - loss: 0.0120 - acc: 1.0000\n",
      "Epoch 6/100\n",
      "700/700 [==============================] - 0s 45us/step - loss: 0.0102 - acc: 1.0000\n",
      "Epoch 7/100\n",
      "700/700 [==============================] - 0s 46us/step - loss: 0.0088 - acc: 1.0000\n",
      "Epoch 8/100\n",
      "700/700 [==============================] - 0s 46us/step - loss: 0.0077 - acc: 1.0000\n",
      "Epoch 9/100\n",
      "700/700 [==============================] - 0s 47us/step - loss: 0.0068 - acc: 1.0000\n",
      "Epoch 10/100\n",
      "700/700 [==============================] - 0s 45us/step - loss: 0.0061 - acc: 1.0000\n",
      "Epoch 11/100\n",
      "700/700 [==============================] - 0s 46us/step - loss: 0.0055 - acc: 1.0000\n",
      "Epoch 12/100\n",
      "700/700 [==============================] - 0s 45us/step - loss: 0.0050 - acc: 1.0000\n",
      "Epoch 13/100\n",
      "700/700 [==============================] - 0s 43us/step - loss: 0.0046 - acc: 1.0000\n",
      "Epoch 14/100\n",
      "700/700 [==============================] - 0s 43us/step - loss: 0.0042 - acc: 1.0000\n",
      "Epoch 15/100\n",
      "700/700 [==============================] - 0s 41us/step - loss: 0.0039 - acc: 1.0000\n",
      "Epoch 16/100\n",
      "700/700 [==============================] - 0s 44us/step - loss: 0.0036 - acc: 1.0000\n",
      "Epoch 17/100\n",
      "700/700 [==============================] - 0s 43us/step - loss: 0.0034 - acc: 1.0000\n",
      "Epoch 18/100\n",
      "700/700 [==============================] - 0s 43us/step - loss: 0.0032 - acc: 1.0000\n",
      "Epoch 19/100\n",
      "700/700 [==============================] - 0s 44us/step - loss: 0.0030 - acc: 1.0000\n",
      "Epoch 20/100\n",
      "700/700 [==============================] - 0s 44us/step - loss: 0.0028 - acc: 1.0000\n",
      "Epoch 21/100\n",
      "700/700 [==============================] - 0s 43us/step - loss: 0.0026 - acc: 1.0000\n",
      "Epoch 22/100\n",
      "700/700 [==============================] - 0s 42us/step - loss: 0.0025 - acc: 1.0000\n",
      "Epoch 23/100\n",
      "700/700 [==============================] - 0s 42us/step - loss: 0.0024 - acc: 1.0000\n",
      "Epoch 24/100\n",
      "700/700 [==============================] - 0s 42us/step - loss: 0.0022 - acc: 1.0000\n",
      "Epoch 25/100\n",
      "700/700 [==============================] - 0s 43us/step - loss: 0.0021 - acc: 1.0000\n",
      "Epoch 26/100\n",
      "700/700 [==============================] - 0s 44us/step - loss: 0.0020 - acc: 1.0000\n",
      "Epoch 27/100\n",
      "700/700 [==============================] - 0s 43us/step - loss: 0.0019 - acc: 1.0000\n",
      "Epoch 28/100\n",
      "700/700 [==============================] - 0s 44us/step - loss: 0.0019 - acc: 1.0000\n",
      "Epoch 29/100\n",
      "700/700 [==============================] - 0s 43us/step - loss: 0.0018 - acc: 1.0000\n",
      "Epoch 30/100\n",
      "700/700 [==============================] - 0s 42us/step - loss: 0.0017 - acc: 1.0000\n",
      "Epoch 31/100\n",
      "700/700 [==============================] - 0s 46us/step - loss: 0.0016 - acc: 1.0000\n",
      "Epoch 32/100\n",
      "700/700 [==============================] - 0s 44us/step - loss: 0.0016 - acc: 1.0000\n",
      "Epoch 33/100\n",
      "700/700 [==============================] - 0s 45us/step - loss: 0.0015 - acc: 1.0000\n",
      "Epoch 34/100\n",
      "700/700 [==============================] - 0s 43us/step - loss: 0.0015 - acc: 1.0000\n",
      "Epoch 35/100\n",
      "700/700 [==============================] - 0s 45us/step - loss: 0.0014 - acc: 1.0000\n",
      "Epoch 36/100\n",
      "700/700 [==============================] - 0s 47us/step - loss: 0.0014 - acc: 1.0000\n",
      "Epoch 37/100\n",
      "700/700 [==============================] - 0s 45us/step - loss: 0.0013 - acc: 1.0000\n",
      "Epoch 38/100\n",
      "700/700 [==============================] - 0s 47us/step - loss: 0.0013 - acc: 1.0000\n",
      "Epoch 39/100\n",
      "700/700 [==============================] - 0s 48us/step - loss: 0.0012 - acc: 1.0000\n",
      "Epoch 40/100\n",
      "700/700 [==============================] - 0s 46us/step - loss: 0.0012 - acc: 1.0000\n",
      "Epoch 41/100\n",
      "700/700 [==============================] - 0s 45us/step - loss: 0.0012 - acc: 1.0000\n",
      "Epoch 42/100\n",
      "700/700 [==============================] - 0s 42us/step - loss: 0.0011 - acc: 1.0000\n",
      "Epoch 43/100\n",
      "700/700 [==============================] - 0s 43us/step - loss: 0.0011 - acc: 1.0000\n",
      "Epoch 44/100\n",
      "700/700 [==============================] - 0s 46us/step - loss: 0.0011 - acc: 1.0000\n",
      "Epoch 45/100\n",
      "700/700 [==============================] - 0s 42us/step - loss: 0.0010 - acc: 1.0000\n",
      "Epoch 46/100\n",
      "700/700 [==============================] - 0s 43us/step - loss: 9.9494e-04 - acc: 1.0000\n",
      "Epoch 47/100\n",
      "700/700 [==============================] - 0s 46us/step - loss: 9.6710e-04 - acc: 1.0000\n",
      "Epoch 48/100\n",
      "700/700 [==============================] - 0s 43us/step - loss: 9.4040e-04 - acc: 1.0000\n",
      "Epoch 49/100\n",
      "700/700 [==============================] - 0s 43us/step - loss: 9.1575e-04 - acc: 1.0000\n",
      "Epoch 50/100\n",
      "700/700 [==============================] - 0s 44us/step - loss: 8.9207e-04 - acc: 1.0000\n",
      "Epoch 51/100\n",
      "700/700 [==============================] - 0s 42us/step - loss: 8.7063e-04 - acc: 1.0000\n",
      "Epoch 52/100\n",
      "700/700 [==============================] - 0s 43us/step - loss: 8.4844e-04 - acc: 1.0000\n",
      "Epoch 53/100\n",
      "700/700 [==============================] - 0s 45us/step - loss: 8.2757e-04 - acc: 1.0000\n",
      "Epoch 54/100\n",
      "700/700 [==============================] - 0s 46us/step - loss: 8.0783e-04 - acc: 1.0000\n",
      "Epoch 55/100\n",
      "700/700 [==============================] - 0s 44us/step - loss: 7.8790e-04 - acc: 1.0000\n",
      "Epoch 56/100\n",
      "700/700 [==============================] - 0s 46us/step - loss: 7.6908e-04 - acc: 1.0000\n",
      "Epoch 57/100\n",
      "700/700 [==============================] - 0s 44us/step - loss: 7.4967e-04 - acc: 1.0000\n",
      "Epoch 58/100\n",
      "700/700 [==============================] - 0s 43us/step - loss: 7.3213e-04 - acc: 1.0000\n",
      "Epoch 59/100\n",
      "700/700 [==============================] - 0s 43us/step - loss: 7.1604e-04 - acc: 1.0000\n",
      "Epoch 60/100\n",
      "700/700 [==============================] - 0s 43us/step - loss: 7.0022e-04 - acc: 1.0000\n",
      "Epoch 61/100\n",
      "700/700 [==============================] - 0s 45us/step - loss: 6.8553e-04 - acc: 1.0000\n",
      "Epoch 62/100\n",
      "700/700 [==============================] - 0s 43us/step - loss: 6.7083e-04 - acc: 1.0000\n",
      "Epoch 63/100\n",
      "700/700 [==============================] - 0s 43us/step - loss: 6.5543e-04 - acc: 1.0000\n",
      "Epoch 64/100\n",
      "700/700 [==============================] - 0s 43us/step - loss: 6.4082e-04 - acc: 1.0000\n",
      "Epoch 65/100\n",
      "700/700 [==============================] - 0s 43us/step - loss: 6.2842e-04 - acc: 1.0000\n",
      "Epoch 66/100\n",
      "700/700 [==============================] - 0s 44us/step - loss: 6.1389e-04 - acc: 1.0000\n",
      "Epoch 67/100\n",
      "700/700 [==============================] - 0s 44us/step - loss: 6.0181e-04 - acc: 1.0000\n",
      "Epoch 68/100\n",
      "700/700 [==============================] - 0s 44us/step - loss: 5.9134e-04 - acc: 1.0000\n",
      "Epoch 69/100\n",
      "700/700 [==============================] - 0s 43us/step - loss: 5.7712e-04 - acc: 1.0000\n",
      "Epoch 70/100\n",
      "700/700 [==============================] - 0s 44us/step - loss: 5.6632e-04 - acc: 1.0000\n",
      "Epoch 71/100\n",
      "700/700 [==============================] - 0s 44us/step - loss: 5.5443e-04 - acc: 1.0000\n",
      "Epoch 72/100\n",
      "700/700 [==============================] - 0s 42us/step - loss: 5.4577e-04 - acc: 1.0000\n",
      "Epoch 73/100\n",
      "700/700 [==============================] - 0s 44us/step - loss: 5.3386e-04 - acc: 1.0000\n",
      "Epoch 74/100\n",
      "700/700 [==============================] - 0s 43us/step - loss: 5.2318e-04 - acc: 1.0000\n",
      "Epoch 75/100\n",
      "700/700 [==============================] - 0s 45us/step - loss: 5.1441e-04 - acc: 1.0000\n",
      "Epoch 76/100\n",
      "700/700 [==============================] - 0s 43us/step - loss: 5.0617e-04 - acc: 1.0000\n",
      "Epoch 77/100\n",
      "700/700 [==============================] - 0s 44us/step - loss: 4.9523e-04 - acc: 1.0000\n",
      "Epoch 78/100\n",
      "700/700 [==============================] - 0s 43us/step - loss: 4.8628e-04 - acc: 1.0000\n",
      "Epoch 79/100\n",
      "700/700 [==============================] - 0s 43us/step - loss: 4.8026e-04 - acc: 1.0000\n",
      "Epoch 80/100\n",
      "700/700 [==============================] - 0s 43us/step - loss: 4.7021e-04 - acc: 1.0000\n",
      "Epoch 81/100\n",
      "700/700 [==============================] - 0s 43us/step - loss: 4.6177e-04 - acc: 1.0000\n",
      "Epoch 82/100\n",
      "700/700 [==============================] - 0s 44us/step - loss: 4.5270e-04 - acc: 1.0000\n",
      "Epoch 83/100\n",
      "700/700 [==============================] - 0s 43us/step - loss: 4.4617e-04 - acc: 1.0000\n",
      "Epoch 84/100\n",
      "700/700 [==============================] - 0s 42us/step - loss: 4.3653e-04 - acc: 1.0000\n",
      "Epoch 85/100\n",
      "700/700 [==============================] - 0s 44us/step - loss: 4.2957e-04 - acc: 1.0000\n",
      "Epoch 86/100\n",
      "700/700 [==============================] - 0s 44us/step - loss: 4.2122e-04 - acc: 1.0000\n",
      "Epoch 87/100\n",
      "700/700 [==============================] - 0s 46us/step - loss: 4.1407e-04 - acc: 1.0000\n",
      "Epoch 88/100\n",
      "700/700 [==============================] - 0s 44us/step - loss: 4.0790e-04 - acc: 1.0000\n",
      "Epoch 89/100\n",
      "700/700 [==============================] - 0s 42us/step - loss: 4.0051e-04 - acc: 1.0000\n",
      "Epoch 90/100\n",
      "700/700 [==============================] - 0s 43us/step - loss: 3.9332e-04 - acc: 1.0000\n",
      "Epoch 91/100\n",
      "700/700 [==============================] - 0s 43us/step - loss: 3.8757e-04 - acc: 1.0000\n",
      "Epoch 92/100\n",
      "700/700 [==============================] - 0s 42us/step - loss: 3.8302e-04 - acc: 1.0000\n",
      "Epoch 93/100\n",
      "700/700 [==============================] - 0s 43us/step - loss: 3.7444e-04 - acc: 1.0000\n",
      "Epoch 94/100\n",
      "700/700 [==============================] - 0s 44us/step - loss: 3.6894e-04 - acc: 1.0000\n",
      "Epoch 95/100\n",
      "700/700 [==============================] - 0s 43us/step - loss: 3.6254e-04 - acc: 1.0000\n",
      "Epoch 96/100\n",
      "700/700 [==============================] - 0s 44us/step - loss: 3.5742e-04 - acc: 1.0000\n",
      "Epoch 97/100\n",
      "700/700 [==============================] - 0s 44us/step - loss: 3.5166e-04 - acc: 1.0000\n",
      "Epoch 98/100\n",
      "700/700 [==============================] - 0s 43us/step - loss: 3.4629e-04 - acc: 1.0000\n",
      "Epoch 99/100\n",
      "700/700 [==============================] - 0s 41us/step - loss: 3.4083e-04 - acc: 1.0000\n",
      "Epoch 100/100\n",
      "700/700 [==============================] - 0s 43us/step - loss: 3.3554e-04 - acc: 1.0000\n"
     ]
    },
    {
     "data": {
      "text/plain": [
       "<keras.callbacks.History at 0x121db76a0>"
      ]
     },
     "execution_count": 13,
     "metadata": {},
     "output_type": "execute_result"
    }
   ],
   "source": [
    "model.fit(X_train, y_train, epochs=100, verbose=1)"
   ]
  },
  {
   "cell_type": "markdown",
   "metadata": {},
   "source": [
    "### Get Loss and Accuracy, Print Test Accuracy\n",
    "\n"
   ]
  },
  {
   "cell_type": "code",
   "execution_count": 18,
   "metadata": {},
   "outputs": [
    {
     "name": "stdout",
     "output_type": "stream",
     "text": [
      "300/300 [==============================] - 0s 24us/step\n",
      "\n",
      "\n",
      "Test loss: 0.00010930344210161517 \n",
      "Test accuracy: 1.0\n"
     ]
    }
   ],
   "source": [
    "eval_result = model.evaluate(X_test, y_test)\n",
    "\n",
    "print(\"\\n\\nTest loss:\", eval_result[0], \"\\nTest accuracy:\", eval_result[1])\n"
   ]
  },
  {
   "cell_type": "markdown",
   "metadata": {},
   "source": [
    "### Plot the Decision Boundary\n"
   ]
  },
  {
   "cell_type": "code",
   "execution_count": 20,
   "metadata": {},
   "outputs": [
    {
     "data": {
      "text/plain": [
       "<function matplotlib.pyplot.show>"
      ]
     },
     "execution_count": 20,
     "metadata": {},
     "output_type": "execute_result"
    },
    {
     "data": {
      "image/png": "[encoded data removed]",
      "text/plain": [
       "<matplotlib.figure.Figure at 0x12367f160>"
      ]
     },
     "metadata": {},
     "output_type": "display_data"
    }
   ],
   "source": [
    "plot_decision_boundary(model, X, y).show"
   ]
  },
  {
   "cell_type": "markdown",
   "metadata": {},
   "source": [
    "-----"
   ]
  },
  {
   "cell_type": "markdown",
   "metadata": {},
   "source": [
    "## Changing the Backend"
   ]
  },
  {
   "cell_type": "markdown",
   "metadata": {
    "collapsed": true
   },
   "source": [
    "Theano and CNTK are also currently supported for Keras. There are two ways to change the backend: \n",
    "\n",
    "\n",
    "- Updating the Keras config file\n",
    "    - The config file is located in your home folder and the subdirectory .keras, and is called keras.json. \n",
    "    - When you open the file, you will see the options for several parameters, one of them being \"backend.\" \n",
    "    \n",
    "- Option two is to define the environment variable keras_backend to TensorFlow, Theano, or CNTK. \n",
    "\n",
    "\n",
    "Setting the environment variable overrides the setting of the config file, which can be useful for testing. You can use the keras_backend to temporarily override the settings, test your code in another backend, and then switch back. \n",
    "\n",
    "\n",
    "\n",
    "\n"
   ]
  }
 ],
 "metadata": {
  "kernelspec": {
   "display_name": "Python 3",
   "language": "python",
   "name": "python3"
  },
  "language_info": {
   "codemirror_mode": {
    "name": "ipython",
    "version": 3
   },
   "file_extension": ".py",
   "mimetype": "text/x-python",
   "name": "python",
   "nbconvert_exporter": "python",
   "pygments_lexer": "ipython3",
   "version": "3.6.4"
  }
 },
 "nbformat": 4,
 "nbformat_minor": 2
}
