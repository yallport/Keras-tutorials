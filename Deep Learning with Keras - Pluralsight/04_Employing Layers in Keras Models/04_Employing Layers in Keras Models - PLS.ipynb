{
 "cells": [
  {
   "cell_type": "markdown",
   "metadata": {},
   "source": [
    "## Employing Layers in Keras Models"
   ]
  },
  {
   "cell_type": "markdown",
   "metadata": {
    "collapsed": true
   },
   "source": [
    "In this module, we look at the various layers available in Keras, and how we use them to effectively construct our models.\n",
    "\n",
    "The layers of neurons provide the intelligence of our network and through training with data, weights and bias of these layers are adjusted to provide the best solution.\n",
    "\n",
    "\n",
    "\n",
    "\n"
   ]
  },
  {
   "cell_type": "markdown",
   "metadata": {},
   "source": [
    "### Common Methods\n",
    "\n",
    "In Keras, layers are built on a common layer object and thus share common methods.\n",
    "\n",
    "\n",
    "\n"
   ]
  },
  {
   "cell_type": "markdown",
   "metadata": {},
   "source": [
    "![get set](Images/04_01.jpg) \n",
    "\n",
    "These allow getting and setting the weights and configuration of the layer-\n",
    "\n",
    "- get_weight returns the weight of the layer\n",
    "\n",
    "- set_weight sets the weights of the layer from a list of numpy arrays\n",
    "\n",
    "- get_config returns a dictionary containing the configuration for the layer\n",
    "\n",
    "- from_config can reinstantiate this layer from the configuration dictionary\n",
    "\n"
   ]
  },
  {
   "cell_type": "markdown",
   "metadata": {},
   "source": [
    "![input output](Images/04_02.jpg) \n",
    "\n",
    "\n",
    "You can get a list of input and output tensors and their associated shapes\n",
    "\n",
    "- input gets the input tensor\n",
    "\n",
    "- output gets the output tensor\n",
    "\n",
    "- input_shape gets the shape of the input tensor\n",
    "\n",
    "- output_shape gets the shape of the output tensor\n",
    "\n",
    "\n",
    "\n",
    "\n",
    "\n"
   ]
  },
  {
   "cell_type": "markdown",
   "metadata": {},
   "source": [
    "![get](Images/04_03.jpg) \n",
    "\n",
    "If the same layer is used in multiple places on the network, as when being shared using the functional API, you can get information on the specific layer from these functions -\n",
    "\n",
    "- get_input_at \n",
    "\n",
    "- get_output_at \n",
    "\n",
    "- get_input_shape_at \n",
    "\n",
    "- get_output_shape_at \n",
    "\n",
    "Each of these use the node index to identify the specific layer. \n",
    "\n"
   ]
  },
  {
   "cell_type": "markdown",
   "metadata": {},
   "source": [
    "-------"
   ]
  },
  {
   "cell_type": "markdown",
   "metadata": {},
   "source": [
    "### Layer Groups\n",
    "\n",
    "As newer and more powerful models have been developed, the array of layers found in Keras has expanded. Today there are over 70 different layers, and even an option to create your own custom layers. "
   ]
  },
  {
   "cell_type": "markdown",
   "metadata": {
    "collapsed": true
   },
   "source": [
    "![Groups](Images/04_04.jpg) \n",
    "\n",
    "**Common**: layers we see often, basic to most neural networks\n",
    "\n",
    "**Shaping**: layers that are used to shape data \n",
    "\n",
    "**Merging**: series of layers that perform merging operations that combine the output of layers\n",
    "\n",
    "**Extension**: let us add our own layers\n",
    "\n",
    "\n",
    "*Support specific types of networks- *\n",
    "\n",
    "\n",
    "**Convolutional - separate module**: supports convolutional neural networks, which are a class of deep neural networks. They are often used to work with image data. \n",
    "\n",
    "**Recurrent -  separate module**: recurrent neural networks are designed to handle data with sequential dependencies, such as predicting the mean of a sentence from a sequence of words. \n",
    "\n",
    "\n"
   ]
  },
  {
   "cell_type": "markdown",
   "metadata": {
    "collapsed": true
   },
   "source": [
    "-----"
   ]
  },
  {
   "cell_type": "markdown",
   "metadata": {},
   "source": [
    "## Common Layers\n",
    "\n",
    "There are common layers that you will use regardless of the purpose of the model or the type of data you are using. \n",
    "\n"
   ]
  },
  {
   "cell_type": "markdown",
   "metadata": {},
   "source": [
    "### Dense\n",
    "\n",
    "The dense layer implements the classic stack of neurons we are used to seeing. \n",
    "\n",
    "- We specify the number of neurons on each dense layer\n",
    "\n",
    "- The dense layer has each neuron connected to each neuron in the next layer, or is the output layer if there is no next layer\n",
    "\n",
    "- Having the neurons in the layers connected allows the network to learn the subtleties of the training data\n",
    "\n",
    "- At risk of overfitting\n",
    "\n",
    "\n",
    "![Dense](Images/04_05.jpg) "
   ]
  },
  {
   "cell_type": "markdown",
   "metadata": {},
   "source": [
    "### Dropout\n",
    "\n",
    "The dropout layer helps with not overfitting the data. During training, the dropout layer randomly sets some of the inputs it receives to 0, effectively removing these inputs contribution to the network. \n",
    "\n",
    "This has the effect of generalizing the model, which reduces the overfitting and results in better performance on real world data. This ensures the model is forced to learn the relationship between all possible paths of data through the network.\n",
    "\n",
    "\n",
    "![Dropout](Images/04_06.jpg) \n",
    "\n",
    "You can see the percentage of the inputs that get set to 0 (in this case, 50%). \n",
    "\n",
    "\n"
   ]
  },
  {
   "cell_type": "markdown",
   "metadata": {},
   "source": [
    "-------"
   ]
  },
  {
   "cell_type": "code",
   "execution_count": null,
   "metadata": {
    "collapsed": true
   },
   "outputs": [],
   "source": []
  },
  {
   "cell_type": "code",
   "execution_count": null,
   "metadata": {
    "collapsed": true
   },
   "outputs": [],
   "source": []
  },
  {
   "cell_type": "code",
   "execution_count": null,
   "metadata": {
    "collapsed": true
   },
   "outputs": [],
   "source": []
  },
  {
   "cell_type": "code",
   "execution_count": null,
   "metadata": {
    "collapsed": true
   },
   "outputs": [],
   "source": []
  }
 ],
 "metadata": {
  "kernelspec": {
   "display_name": "Python 3",
   "language": "python",
   "name": "python3"
  },
  "language_info": {
   "codemirror_mode": {
    "name": "ipython",
    "version": 3
   },
   "file_extension": ".py",
   "mimetype": "text/x-python",
   "name": "python",
   "nbconvert_exporter": "python",
   "pygments_lexer": "ipython3",
   "version": "3.6.4"
  }
 },
 "nbformat": 4,
 "nbformat_minor": 2
}
